{
  "nbformat": 4,
  "nbformat_minor": 0,
  "metadata": {
    "colab": {
      "name": "mnist.ipynb",
      "version": "0.3.2",
      "provenance": [],
      "collapsed_sections": []
    },
    "kernelspec": {
      "name": "python3",
      "display_name": "Python 3"
    },
    "accelerator": "GPU"
  },
  "cells": [
    {
      "metadata": {
        "id": "ESo3Q9Q9Z93F",
        "colab_type": "text"
      },
      "cell_type": "markdown",
      "source": [
        "Importing dependancies"
      ]
    },
    {
      "metadata": {
        "id": "lUI_PsmhZ93H",
        "colab_type": "code",
        "colab": {}
      },
      "cell_type": "code",
      "source": [
        "import torch\n",
        "from torch import optim\n",
        "from torch import nn\n",
        "import matplotlib.pyplot as plt"
      ],
      "execution_count": 0,
      "outputs": []
    },
    {
      "metadata": {
        "id": "Vu9RkRuyaIJx",
        "colab_type": "code",
        "colab": {}
      },
      "cell_type": "code",
      "source": [
        ""
      ],
      "execution_count": 0,
      "outputs": []
    },
    {
      "metadata": {
        "id": "0edGqsPAZ93M",
        "colab_type": "code",
        "colab": {}
      },
      "cell_type": "code",
      "source": [
        "from torchvision import datasets,transforms"
      ],
      "execution_count": 0,
      "outputs": []
    },
    {
      "metadata": {
        "id": "i6GI6DJZZ93O",
        "colab_type": "code",
        "outputId": "c7035eeb-f420-4eff-eed9-60a529153ab1",
        "colab": {
          "base_uri": "https://localhost:8080/",
          "height": 123
        }
      },
      "cell_type": "code",
      "source": [
        "torch.manual_seed(7)\n",
        "transform=transforms.Compose([transforms.ToTensor(),transforms.Normalize((0.5,0.5,0.5),(0.5,0.5,05.))])\n",
        "trainset=datasets.MNIST('mnistTrain/',train=True,transform=transform,download=True)\n",
        "trainloader=torch.utils.data.DataLoader(trainset,batch_size=64,shuffle=True)"
      ],
      "execution_count": 0,
      "outputs": [
        {
          "output_type": "stream",
          "text": [
            "Downloading http://yann.lecun.com/exdb/mnist/train-images-idx3-ubyte.gz\n",
            "Downloading http://yann.lecun.com/exdb/mnist/train-labels-idx1-ubyte.gz\n",
            "Downloading http://yann.lecun.com/exdb/mnist/t10k-images-idx3-ubyte.gz\n",
            "Downloading http://yann.lecun.com/exdb/mnist/t10k-labels-idx1-ubyte.gz\n",
            "Processing...\n",
            "Done!\n"
          ],
          "name": "stdout"
        }
      ]
    },
    {
      "metadata": {
        "id": "Cl0UWCxBZ93U",
        "colab_type": "code",
        "outputId": "b6e16f91-2750-4142-bec4-204ccd2a8621",
        "colab": {
          "base_uri": "https://localhost:8080/",
          "height": 123
        }
      },
      "cell_type": "code",
      "source": [
        "torch.manual_seed(7)\n",
        "testset=datasets.MNIST('mnistTest/',train=False,transform=transform,download=True)\n",
        "testloader=torch.utils.data.DataLoader(testset,batch_size=64,shuffle=True)"
      ],
      "execution_count": 0,
      "outputs": [
        {
          "output_type": "stream",
          "text": [
            "Downloading http://yann.lecun.com/exdb/mnist/train-images-idx3-ubyte.gz\n",
            "Downloading http://yann.lecun.com/exdb/mnist/train-labels-idx1-ubyte.gz\n",
            "Downloading http://yann.lecun.com/exdb/mnist/t10k-images-idx3-ubyte.gz\n",
            "Downloading http://yann.lecun.com/exdb/mnist/t10k-labels-idx1-ubyte.gz\n",
            "Processing...\n",
            "Done!\n"
          ],
          "name": "stdout"
        }
      ]
    },
    {
      "metadata": {
        "id": "qOH7gioEZ93Y",
        "colab_type": "code",
        "colab": {}
      },
      "cell_type": "code",
      "source": [
        "image,label=next(iter(trainloader))\n",
        "imageTest,labelTest=next(iter(testloader))"
      ],
      "execution_count": 0,
      "outputs": []
    },
    {
      "metadata": {
        "id": "J5e4QSpNZ93c",
        "colab_type": "code",
        "outputId": "b30c1674-a1b9-4409-ffa7-edf41b28426f",
        "colab": {
          "base_uri": "https://localhost:8080/",
          "height": 347
        }
      },
      "cell_type": "code",
      "source": [
        "plt.subplot(221)\n",
        "plt.imshow(image[10].view(28,28), cmap=plt.get_cmap('gray'))\n",
        "plt.subplot(222)\n",
        "plt.imshow(image[9].view(28,28), cmap=plt.get_cmap('gray'))\n",
        "plt.subplot(223)\n",
        "plt.imshow(image[2].view(28,28), cmap=plt.get_cmap('gray'))\n",
        "plt.subplot(224)\n",
        "plt.imshow(image[0].view(28,28), cmap=plt.get_cmap('gray'))\n",
        "# show the plot\n",
        "plt.show()"
      ],
      "execution_count": 0,
      "outputs": [
        {
          "output_type": "display_data",
          "data": {
            "image/png": "[encoded data removed]",
            "text/plain": [
              "<matplotlib.figure.Figure at 0x7fb88a6f72b0>"
            ]
          },
          "metadata": {
            "tags": []
          }
        }
      ]
    },
    {
      "metadata": {
        "id": "EGkB5e-UZ93g",
        "colab_type": "code",
        "colab": {}
      },
      "cell_type": "code",
      "source": [
        "def define_model(act1,act2):\n",
        "    model=nn.Sequential(nn.Linear(784,256),\n",
        "                   act1,\n",
        "                   nn.Linear(256,64), \n",
        "                   act2,\n",
        "                   nn.Linear(64,10),\n",
        "                   nn.LogSoftmax(dim=1))\n",
        "    return model"
      ],
      "execution_count": 0,
      "outputs": []
    },
    {
      "metadata": {
        "id": "tKCESbcxZ93i",
        "colab_type": "text"
      },
      "cell_type": "markdown",
      "source": [
        "### learning rate: 0.004 "
      ]
    },
    {
      "metadata": {
        "id": "H9rCCdC1Z93j",
        "colab_type": "code",
        "colab": {}
      },
      "cell_type": "code",
      "source": [
        "def train(f1,f2):\n",
        "  model=define_model(f1,f2)\n",
        "  criterion=nn.NLLLoss()\n",
        "  epochs=10\n",
        "  optimizer=optim.SGD(model.parameters(),lr=0.04)\n",
        "  errorTrain=[]\n",
        "  errorTest=[]\n",
        "  accuracy_arr=[]\n",
        "  print (str(f1)[:-2],str(f2)[:-2])\n",
        "\n",
        "  for e in range(epochs):\n",
        "      running_loss=0;\n",
        "      validation_loss=0;\n",
        "      accuracy=0;\n",
        "      for images,labels in trainloader:\n",
        "          optimizer.zero_grad()\n",
        "          logits=model(images.view(images.shape[0],-1))\n",
        "          loss=criterion(logits,labels)\n",
        "          loss.backward()\n",
        "          optimizer.step()\n",
        "          running_loss+=loss\n",
        "#       else:\n",
        "#           print(\"Training Loss: {}\".format(running_loss/len(trainloader)))\n",
        "\n",
        "      for imageTest,labelTest in testloader:\n",
        "          with torch.no_grad():\n",
        "              logits_test=model(imageTest.view(imageTest.shape[0],-1))\n",
        "          lossTest=criterion(logits_test,labelTest)\n",
        "          validation_loss+=lossTest\n",
        "          ps=torch.exp(logits)\n",
        "          top_p,top_class=ps.topk(1,dim=1)\n",
        "          equals=top_class==labels.view(*top_class.shape)\n",
        "          accuracy += torch.mean(equals.type(torch.FloatTensor))\n",
        "\n",
        "      else:\n",
        "          print(\"Epoch: {}/{}.. \".format(e+1, epochs),\n",
        "                \"Training Loss: {:.3f}.. \".format(running_loss/len(trainloader)),\n",
        "                \"Test Loss: {:.3f}.. \".format(validation_loss/len(testloader)),\n",
        "                \"Test Accuracy: {:.3f}\".format((accuracy/len(testloader))*100))\n",
        "#           errorTest.append(validation_loss/len(testloader))\n",
        "#           errorTrain.append(running_loss/len(trainloader))\n",
        "#           accuracy_arr.append((accuracy/len(testloader)*100))\n",
        "          \n",
        "#   plt.plot([i for i in range(epochs)],errorTrain,label='Training loss')\n",
        "#   plt.plot([i for i in range(epochs)],errorTest,label='Validation loss')\n",
        "#   plt.legend()\n",
        "#   plt.title('Error plot when learning rate= 0.004')\n",
        "#   plt.xlabel('number of epochs')\n",
        "#   plt.ylabel('error')\n",
        "#   plt.title(str(f1)[:-2]+\"_\"+str(f2)[:-2])\n",
        "#   plt.savefig(str(f1)[:-2]+\"_\"+str(f2)[:-2]+\".png\")      \n",
        "\n",
        "\n"
      ],
      "execution_count": 0,
      "outputs": []
    },
    {
      "metadata": {
        "id": "vHFmS9ZlffLj",
        "colab_type": "text"
      },
      "cell_type": "markdown",
      "source": [
        ""
      ]
    },
    {
      "metadata": {
        "id": "wbZn7Pj6Z93n",
        "colab_type": "code",
        "colab": {}
      },
      "cell_type": "code",
      "source": [
        "for a in [nn.ReLU(), nn.Tanh(), nn.Sigmoid(),nn.SELU()]:\n",
        "    for b in [nn.ReLU(), nn.Tanh(), nn.Sigmoid(),nn.SELU()]:\n",
        "            train(a, b)"
      ],
      "execution_count": 0,
      "outputs": []
    },
    {
      "metadata": {
        "id": "aDIDDQR3fwco",
        "colab_type": "code",
        "colab": {}
      },
      "cell_type": "code",
      "source": [
        ""
      ],
      "execution_count": 0,
      "outputs": []
    },
    {
      "metadata": {
        "id": "6YbkTvnYeTCe",
        "colab_type": "code",
        "colab": {}
      },
      "cell_type": "code",
      "source": [
        ""
      ],
      "execution_count": 0,
      "outputs": []
    },
    {
      "metadata": {
        "id": "96yWs4kRZ93p",
        "colab_type": "code",
        "colab": {}
      },
      "cell_type": "code",
      "source": [
        ""
      ],
      "execution_count": 0,
      "outputs": []
    },
    {
      "metadata": {
        "id": "sT-xT5FZZ93w",
        "colab_type": "code",
        "colab": {}
      },
      "cell_type": "code",
      "source": [
        ""
      ],
      "execution_count": 0,
      "outputs": []
    },
    {
      "metadata": {
        "id": "46gY5HW3Z930",
        "colab_type": "code",
        "colab": {}
      },
      "cell_type": "code",
      "source": [
        ""
      ],
      "execution_count": 0,
      "outputs": []
    },
    {
      "metadata": {
        "id": "ppyc6p6BZ937",
        "colab_type": "code",
        "colab": {}
      },
      "cell_type": "code",
      "source": [
        ""
      ],
      "execution_count": 0,
      "outputs": []
    },
    {
      "metadata": {
        "id": "aie3XudWZ94A",
        "colab_type": "code",
        "colab": {}
      },
      "cell_type": "code",
      "source": [
        ""
      ],
      "execution_count": 0,
      "outputs": []
    },
    {
      "metadata": {
        "id": "iV-kB9naZ94H",
        "colab_type": "code",
        "colab": {}
      },
      "cell_type": "code",
      "source": [
        ""
      ],
      "execution_count": 0,
      "outputs": []
    },
    {
      "metadata": {
        "id": "-h3S8qs-Z94K",
        "colab_type": "code",
        "colab": {}
      },
      "cell_type": "code",
      "source": [
        ""
      ],
      "execution_count": 0,
      "outputs": []
    },
    {
      "metadata": {
        "id": "angeXRNRZ94P",
        "colab_type": "code",
        "colab": {}
      },
      "cell_type": "code",
      "source": [
        ""
      ],
      "execution_count": 0,
      "outputs": []
    },
    {
      "metadata": {
        "id": "vHqjaVX_Z94R",
        "colab_type": "code",
        "colab": {}
      },
      "cell_type": "code",
      "source": [
        ""
      ],
      "execution_count": 0,
      "outputs": []
    },
    {
      "metadata": {
        "id": "W46cRng5Z94X",
        "colab_type": "code",
        "colab": {}
      },
      "cell_type": "code",
      "source": [
        ""
      ],
      "execution_count": 0,
      "outputs": []
    },
    {
      "metadata": {
        "id": "kpkqklvXZ94Z",
        "colab_type": "code",
        "colab": {}
      },
      "cell_type": "code",
      "source": [
        ""
      ],
      "execution_count": 0,
      "outputs": []
    },
    {
      "metadata": {
        "id": "qzOpWBbxZ94c",
        "colab_type": "code",
        "colab": {}
      },
      "cell_type": "code",
      "source": [
        ""
      ],
      "execution_count": 0,
      "outputs": []
    },
    {
      "metadata": {
        "id": "kMplvLr3Z94e",
        "colab_type": "code",
        "colab": {}
      },
      "cell_type": "code",
      "source": [
        "\n"
      ],
      "execution_count": 0,
      "outputs": []
    },
    {
      "metadata": {
        "id": "Q8V3X5OVZ94g",
        "colab_type": "code",
        "colab": {}
      },
      "cell_type": "code",
      "source": [
        ""
      ],
      "execution_count": 0,
      "outputs": []
    },
    {
      "metadata": {
        "id": "FPf9qBiFZ94i",
        "colab_type": "code",
        "colab": {}
      },
      "cell_type": "code",
      "source": [
        ""
      ],
      "execution_count": 0,
      "outputs": []
    }
  ]
}