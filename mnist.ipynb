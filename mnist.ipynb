{
 "cells": [
  {
   "cell_type": "markdown",
   "metadata": {},
   "source": [
    "Importing dependancies"
   ]
  },
  {
   "cell_type": "code",
   "execution_count": 1,
   "metadata": {},
   "outputs": [],
   "source": [
    "\n",
    "import torch\n",
    "from torch import optim\n",
    "from torch import nn\n",
    "import matplotlib.pyplot as plt"
   ]
  },
  {
   "cell_type": "code",
   "execution_count": 2,
   "metadata": {},
   "outputs": [],
   "source": [
    "from torchvision import datasets,transforms"
   ]
  },
  {
   "cell_type": "code",
   "execution_count": 3,
   "metadata": {},
   "outputs": [],
   "source": [
    "torch.manual_seed(7)\n",
    "transform=transforms.Compose([transforms.ToTensor(),transforms.Normalize((0.5,0.5,0.5),(0.5,0.5,05.))])\n",
    "trainset=datasets.MNIST('mnistTrain/',train=True,transform=transform,download=True)\n",
    "trainloader=torch.utils.data.DataLoader(trainset,batch_size=64,shuffle=True)"
   ]
  },
  {
   "cell_type": "code",
   "execution_count": 4,
   "metadata": {},
   "outputs": [],
   "source": [
    "torch.manual_seed(7)\n",
    "testset=datasets.MNIST('mnistTest/',train=False,transform=transform,download=True)\n",
    "testloader=torch.utils.data.DataLoader(testset,batch_size=64,shuffle=True)"
   ]
  },
  {
   "cell_type": "code",
   "execution_count": 9,
   "metadata": {},
   "outputs": [],
   "source": [
    "image,label=next(iter(trainloader))\n",
    "imageTest,labelTest=next(iter(testloader))"
   ]
  },
  {
   "cell_type": "code",
   "execution_count": 10,
   "metadata": {},
   "outputs": [
    {
     "data": {
      "image/png": "[encoded data removed]",
      "text/plain": [
       "<Figure size 432x288 with 4 Axes>"
      ]
     },
     "metadata": {
      "needs_background": "light"
     },
     "output_type": "display_data"
    }
   ],
   "source": [
    "plt.subplot(221)\n",
    "plt.imshow(image[10].view(28,28), cmap=plt.get_cmap('gray'))\n",
    "plt.subplot(222)\n",
    "plt.imshow(image[9].view(28,28), cmap=plt.get_cmap('gray'))\n",
    "plt.subplot(223)\n",
    "plt.imshow(image[2].view(28,28), cmap=plt.get_cmap('gray'))\n",
    "plt.subplot(224)\n",
    "plt.imshow(image[0].view(28,28), cmap=plt.get_cmap('gray'))\n",
    "# show the plot\n",
    "plt.show()"
   ]
  },
  {
   "cell_type": "code",
   "execution_count": 11,
   "metadata": {},
   "outputs": [],
   "source": [
    "model=nn.Sequential(nn.Linear(784,256),\n",
    "                   nn.ReLU(),\n",
    "                   nn.Linear(256,128), \n",
    "                   nn.ReLU(),\n",
    "                   nn.Linear(128,64),\n",
    "                   nn.ReLU() ,\n",
    "                   nn.Linear(64,10),\n",
    "                   nn.LogSoftmax(dim=1))"
   ]
  },
  {
   "cell_type": "markdown",
   "metadata": {},
   "source": [
    "### learning rate: 0.004 "
   ]
  },
  {
   "cell_type": "code",
   "execution_count": 12,
   "metadata": {},
   "outputs": [
    {
     "name": "stdout",
     "output_type": "stream",
     "text": [
      "Training Loss: 2.1465110778808594\n",
      "Validation Loss: 1.7441825866699219\n",
      "Training Loss: 1.0912234783172607\n",
      "Validation Loss: 0.6638931632041931\n",
      "Training Loss: 0.5455068945884705\n",
      "Validation Loss: 0.4608449339866638\n",
      "Training Loss: 0.4285031259059906\n",
      "Validation Loss: 0.38493067026138306\n",
      "Training Loss: 0.3815378248691559\n",
      "Validation Loss: 0.36038270592689514\n",
      "Training Loss: 0.3533932566642761\n",
      "Validation Loss: 0.33468154072761536\n",
      "Training Loss: 0.3317720592021942\n",
      "Validation Loss: 0.32008129358291626\n",
      "Training Loss: 0.3137242794036865\n",
      "Validation Loss: 0.2959549129009247\n",
      "Training Loss: 0.2985953390598297\n",
      "Validation Loss: 0.28848740458488464\n",
      "Training Loss: 0.2841227948665619\n",
      "Validation Loss: 0.27279534935951233\n"
     ]
    }
   ],
   "source": [
    "\n",
    "criterion=nn.NLLLoss()\n",
    "epochs=10\n",
    "optimizer=optim.SGD(model.parameters(),lr=0.004)\n",
    "errorTrain=[]\n",
    "errorTest=[]\n",
    "for e in range(epochs):\n",
    "    running_loss=0;\n",
    "    validation_loss=0;\n",
    "    for images,labels in trainloader:\n",
    "        optimizer.zero_grad()\n",
    "        logits=model(images.view(images.shape[0],-1))\n",
    "        loss=criterion(logits,labels)\n",
    "        loss.backward()\n",
    "        optimizer.step()\n",
    "        running_loss+=loss\n",
    "    else:\n",
    "        print(\"Training Loss: {}\".format(running_loss/len(trainloader)))\n",
    "    model.eval()\n",
    "    for imageTest,labelTest in testloader:\n",
    "        with torch.no_grad():\n",
    "            logits_test=model(imageTest.view(imageTest.shape[0],-1))\n",
    "        lossTest=criterion(logits_test,labelTest)\n",
    "        validation_loss+=lossTest\n",
    "    else:\n",
    "        print(\"Validation Loss: {}\".format(validation_loss/len(testloader)))\n",
    "        errorTest.append(validation_loss/len(testloader))\n",
    "        errorTrain.append(running_loss/len(trainloader))\n",
    "    model.train()    \n",
    "        \n",
    "        "
   ]
  },
  {
   "cell_type": "code",
   "execution_count": null,
   "metadata": {},
   "outputs": [],
   "source": []
  },
  {
   "cell_type": "code",
   "execution_count": 13,
   "metadata": {},
   "outputs": [
    {
     "data": {
      "image/png": "[encoded data removed]",
      "text/plain": [
       "<Figure size 432x288 with 1 Axes>"
      ]
     },
     "metadata": {
      "needs_background": "light"
     },
     "output_type": "display_data"
    },
    {
     "data": {
      "text/plain": [
       "<Figure size 432x288 with 0 Axes>"
      ]
     },
     "metadata": {},
     "output_type": "display_data"
    }
   ],
   "source": [
    "plt.plot([i for i in range(epochs)],errorTrain,label='Training loss')\n",
    "plt.plot([i for i in range(epochs)],errorTest,label='Validation loss')\n",
    "plt.legend()\n",
    "plt.title('Error plot when hyperparamter=0.004')\n",
    "plt.xlabel('number of epochs')\n",
    "plt.ylabel('error')\n",
    "plt.show()\n",
    "plt.savefig('0.004.png')"
   ]
  },
  {
   "cell_type": "markdown",
   "metadata": {},
   "source": [
    "###  Learning rate: 0.009"
   ]
  },
  {
   "cell_type": "code",
   "execution_count": 14,
   "metadata": {},
   "outputs": [
    {
     "name": "stdout",
     "output_type": "stream",
     "text": [
      "Training Loss: 0.271019846200943\n",
      "Validation Loss: 0.252410888671875\n",
      "Training Loss: 0.24199925363063812\n",
      "Validation Loss: 0.23544034361839294\n",
      "Training Loss: 0.21506409347057343\n",
      "Validation Loss: 0.2012040764093399\n",
      "Training Loss: 0.1921795904636383\n",
      "Validation Loss: 0.17764824628829956\n",
      "Training Loss: 0.17262136936187744\n",
      "Validation Loss: 0.16853322088718414\n",
      "Training Loss: 0.15709052979946136\n",
      "Validation Loss: 0.15340690314769745\n",
      "Training Loss: 0.1433439552783966\n",
      "Validation Loss: 0.14467473328113556\n",
      "Training Loss: 0.13235418498516083\n",
      "Validation Loss: 0.13837313652038574\n",
      "Training Loss: 0.1220172792673111\n",
      "Validation Loss: 0.13572844862937927\n",
      "Training Loss: 0.11329536885023117\n",
      "Validation Loss: 0.1200849711894989\n"
     ]
    }
   ],
   "source": [
    "criterion=nn.NLLLoss()\n",
    "epochs=10\n",
    "optimizer=optim.SGD(model.parameters(),lr=0.009)\n",
    "errorTrain=[]\n",
    "errorTest=[]\n",
    "for e in range(epochs):\n",
    "    running_loss=0;\n",
    "    validation_loss=0;\n",
    "    for images,labels in trainloader:\n",
    "        optimizer.zero_grad()\n",
    "        logits=model(images.view(images.shape[0],-1))\n",
    "        loss=criterion(logits,labels)\n",
    "        loss.backward()\n",
    "        optimizer.step()\n",
    "        running_loss+=loss\n",
    "    else:\n",
    "        print(\"Training Loss: {}\".format(running_loss/len(trainloader)))\n",
    "    model.eval()\n",
    "    for imageTest,labelTest in testloader:\n",
    "        with torch.no_grad():\n",
    "            logits_test=model(imageTest.view(imageTest.shape[0],-1))\n",
    "        lossTest=criterion(logits_test,labelTest)\n",
    "        validation_loss+=lossTest\n",
    "    else:\n",
    "        print(\"Validation Loss: {}\".format(validation_loss/len(testloader)))\n",
    "        errorTest.append(validation_loss/len(testloader))\n",
    "        errorTrain.append(running_loss/len(trainloader))\n",
    "    model.train()    \n",
    "        "
   ]
  },
  {
   "cell_type": "code",
   "execution_count": 15,
   "metadata": {},
   "outputs": [
    {
     "data": {
      "image/png": "[encoded data removed]",
      "text/plain": [
       "<Figure size 432x288 with 1 Axes>"
      ]
     },
     "metadata": {
      "needs_background": "light"
     },
     "output_type": "display_data"
    },
    {
     "data": {
      "text/plain": [
       "<Figure size 432x288 with 0 Axes>"
      ]
     },
     "metadata": {},
     "output_type": "display_data"
    }
   ],
   "source": [
    "plt.plot([i for i in range(epochs)],errorTrain,label='Training loss')\n",
    "plt.plot([i for i in range(epochs)],errorTest,label='Validation loss')\n",
    "plt.legend()\n",
    "plt.title('Error plot when hyperparamter=0.009')\n",
    "plt.xlabel('number of epochs')\n",
    "plt.ylabel('error')\n",
    "plt.show()\n",
    "plt.savefig('0.0009.png')"
   ]
  },
  {
   "cell_type": "markdown",
   "metadata": {},
   "source": [
    "This shows that after 5 epochs the validation accuracy increase, this may be the right point to stop our training."
   ]
  },
  {
   "cell_type": "markdown",
   "metadata": {},
   "source": [
    "### Learning rate: 0.01"
   ]
  },
  {
   "cell_type": "code",
   "execution_count": 16,
   "metadata": {},
   "outputs": [
    {
     "name": "stdout",
     "output_type": "stream",
     "text": [
      "Training Loss: 0.10588791221380234\n",
      "Validation Loss: 0.13183972239494324\n",
      "Training Loss: 0.09845845401287079\n",
      "Validation Loss: 0.1081734448671341\n",
      "Training Loss: 0.0919853001832962\n",
      "Validation Loss: 0.10517382621765137\n",
      "Training Loss: 0.08569125831127167\n",
      "Validation Loss: 0.10343973338603973\n",
      "Training Loss: 0.0798291265964508\n",
      "Validation Loss: 0.09921452403068542\n",
      "Training Loss: 0.07480710744857788\n",
      "Validation Loss: 0.09477127343416214\n",
      "Training Loss: 0.07058130949735641\n",
      "Validation Loss: 0.11532559990882874\n",
      "Training Loss: 0.0662989616394043\n",
      "Validation Loss: 0.0934019386768341\n",
      "Training Loss: 0.06186654791235924\n",
      "Validation Loss: 0.09485883265733719\n",
      "Training Loss: 0.05850699543952942\n",
      "Validation Loss: 0.10751698911190033\n"
     ]
    }
   ],
   "source": [
    "criterion=nn.NLLLoss()\n",
    "epochs=10\n",
    "optimizer=optim.SGD(model.parameters(),lr=0.01)\n",
    "errorTrain=[]\n",
    "errorTest=[]\n",
    "for e in range(epochs):\n",
    "    running_loss=0;\n",
    "    validation_loss=0;\n",
    "    for images,labels in trainloader:\n",
    "        optimizer.zero_grad()\n",
    "        logits=model(images.view(images.shape[0],-1))\n",
    "        loss=criterion(logits,labels)\n",
    "        loss.backward()\n",
    "        optimizer.step()\n",
    "        running_loss+=loss\n",
    "    else:\n",
    "        print(\"Training Loss: {}\".format(running_loss/len(trainloader)))\n",
    "    model.eval()\n",
    "    for imageTest,labelTest in testloader:\n",
    "        with torch.no_grad():\n",
    "            logits_test=model(imageTest.view(imageTest.shape[0],-1))\n",
    "        lossTest=criterion(logits_test,labelTest)\n",
    "        validation_loss+=lossTest\n",
    "    else:\n",
    "        print(\"Validation Loss: {}\".format(validation_loss/len(testloader)))\n",
    "        errorTest.append(validation_loss/len(testloader))\n",
    "        errorTrain.append(running_loss/len(trainloader))\n",
    "    model.train()      \n",
    "        "
   ]
  },
  {
   "cell_type": "code",
   "execution_count": 17,
   "metadata": {},
   "outputs": [
    {
     "data": {
      "image/png": "[encoded data removed]",
      "text/plain": [
       "<Figure size 432x288 with 1 Axes>"
      ]
     },
     "metadata": {
      "needs_background": "light"
     },
     "output_type": "display_data"
    },
    {
     "data": {
      "text/plain": [
       "<Figure size 432x288 with 0 Axes>"
      ]
     },
     "metadata": {},
     "output_type": "display_data"
    }
   ],
   "source": [
    "plt.plot([i for i in range(epochs)],errorTrain,label='Training loss')\n",
    "plt.plot([i for i in range(epochs)],errorTest,label='Validation loss')\n",
    "plt.legend()\n",
    "plt.title('Error plot when hyperparamter=0.001')\n",
    "plt.xlabel('number of epochs')\n",
    "plt.ylabel('error')\n",
    "plt.show()\n",
    "plt.savefig('0.001.png')"
   ]
  },
  {
   "cell_type": "markdown",
   "metadata": {},
   "source": [
    "Case of high variance (overfitting)"
   ]
  },
  {
   "cell_type": "code",
   "execution_count": null,
   "metadata": {},
   "outputs": [],
   "source": []
  },
  {
   "cell_type": "code",
   "execution_count": null,
   "metadata": {},
   "outputs": [],
   "source": []
  },
  {
   "cell_type": "code",
   "execution_count": null,
   "metadata": {},
   "outputs": [],
   "source": []
  },
  {
   "cell_type": "code",
   "execution_count": null,
   "metadata": {},
   "outputs": [],
   "source": []
  },
  {
   "cell_type": "code",
   "execution_count": null,
   "metadata": {},
   "outputs": [],
   "source": []
  },
  {
   "cell_type": "code",
   "execution_count": null,
   "metadata": {},
   "outputs": [],
   "source": []
  },
  {
   "cell_type": "code",
   "execution_count": null,
   "metadata": {},
   "outputs": [],
   "source": []
  },
  {
   "cell_type": "code",
   "execution_count": null,
   "metadata": {},
   "outputs": [],
   "source": [
    "\n"
   ]
  },
  {
   "cell_type": "code",
   "execution_count": null,
   "metadata": {},
   "outputs": [],
   "source": []
  },
  {
   "cell_type": "code",
   "execution_count": null,
   "metadata": {},
   "outputs": [],
   "source": []
  }
 ],
 "metadata": {
  "kernelspec": {
   "display_name": "Python 3",
   "language": "python",
   "name": "python3"
  },
  "language_info": {
   "codemirror_mode": {
    "name": "ipython",
    "version": 3
   },
   "file_extension": ".py",
   "mimetype": "text/x-python",
   "name": "python",
   "nbconvert_exporter": "python",
   "pygments_lexer": "ipython3",
   "version": "3.6.5"
  }
 },
 "nbformat": 4,
 "nbformat_minor": 2
}
